{
 "cells": [
  {
   "cell_type": "markdown",
   "id": "26183030",
   "metadata": {},
   "source": [
    "# Genetic Algorithm and Particle Swarm Optimization"
   ]
  },
  {
   "cell_type": "markdown",
   "id": "e6fd9879",
   "metadata": {},
   "source": [
    "## Importing Libraries"
   ]
  },
  {
   "cell_type": "code",
   "execution_count": 12,
   "id": "5d3e5274",
   "metadata": {
    "ExecuteTime": {
     "end_time": "2022-11-07T16:29:09.034385Z",
     "start_time": "2022-11-07T16:27:54.948268Z"
    }
   },
   "outputs": [
    {
     "name": "stdout",
     "output_type": "stream",
     "text": [
      "Collecting optproblemsNote: you may need to restart the kernel to use updated packages.\n",
      "  Downloading optproblems-1.3.tar.gz (2.0 MB)\n",
      "Building wheels for collected packages: optproblems\n",
      "  Building wheel for optproblems (setup.py): started\n",
      "  Building wheel for optproblems (setup.py): finished with status 'done'\n",
      "  Created wheel for optproblems: filename=optproblems-1.3-py3-none-any.whl size=2040690 sha256=3f1851c9afb171d2a1343cd51d8385fda0fa4f02cfe52de44b3dc27639f0e2bd\n",
      "  Stored in directory: c:\\users\\geeta\\appdata\\local\\pip\\cache\\wheels\\52\\6d\\85\\cae29bdf0723616b70cb1161ddeaa599b3f18297ff70ccf411\n",
      "Successfully built optproblems\n",
      "Installing collected packages: optproblems\n",
      "Successfully installed optproblems-1.3\n",
      "\n"
     ]
    }
   ],
   "source": [
    "# uncomment the next line when running the file for the first time\n",
    "# pip install optproblems"
   ]
  },
  {
   "cell_type": "code",
   "execution_count": 27,
   "id": "384fdaa5",
   "metadata": {
    "ExecuteTime": {
     "end_time": "2022-11-25T02:34:30.990695Z",
     "start_time": "2022-11-25T02:34:29.739870Z"
    }
   },
   "outputs": [],
   "source": [
    "import numpy as np\n",
    "import random\n",
    "import copy\n",
    "import matplotlib.pyplot as plt\n",
    "import math\n",
    "random.seed(40)\n",
    "np.random.seed(40)"
   ]
  },
  {
   "cell_type": "markdown",
   "id": "6bce6baf",
   "metadata": {},
   "source": [
    "## Optimization Functions"
   ]
  },
  {
   "cell_type": "code",
   "execution_count": null,
   "id": "2c2cd567",
   "metadata": {},
   "outputs": [],
   "source": [
    "def get_bounds(funcname):\n",
    "    \"\"\"\n",
    "        Function to get the lower and upper bounds of the position and velocity of a particle.\n",
    "        \n",
    "        Attributes:\n",
    "            funcname - name of the function that will be optimized\n",
    "    \"\"\"\n",
    "    min_bound = 0 # minimum position value\n",
    "    max_bound = 0 # maximum position value\n",
    "    \n",
    "    if funcname == 'f1':\n",
    "        min_bound = -100\n",
    "        max_bound = 100\n",
    "        \n",
    "    elif funcname == \"f4\":\n",
    "        min_bound = -600\n",
    "        max_bound = 600\n",
    "            \n",
    "    elif funcname == \"f6\":\n",
    "        min_bound = -5.12\n",
    "        max_bound = 5.12\n",
    "        \n",
    "    # minimum and maximum permissible velocity values\n",
    "    min_vel_bound = -0.2*(max_bound-min_bound)\n",
    "    max_vel_bound = 0.2*(max_bound-min_bound)\n",
    "    return (min_bound, max_bound, min_vel_bound, max_vel_bound)\n",
    "       \n",
    "def f1(x):\n",
    "    \"\"\"\n",
    "        Function to calculate the Sphere function.\n",
    "        \n",
    "        Attributes:\n",
    "            x - candidate solution\n",
    "    \"\"\"\n",
    "    total = 0\n",
    "    total = np.sum(np.square(x))\n",
    "    return total\n",
    "\n",
    "def f4(x):\n",
    "    \"\"\"\n",
    "        Function to calculate the Griewank's function.\n",
    "        \n",
    "        Attributes:\n",
    "            x - candidate solution\n",
    "    \"\"\"\n",
    "    total = 0\n",
    "    p1 = 0\n",
    "    p2 = 1\n",
    "    for i in range(len(x)):\n",
    "        p1 += x[i]**2\n",
    "        p2 *= np.cos(x[i]/(np.sqrt(i+1)))\n",
    "    \n",
    "    total = (p1/4000.0) - p2 + 1\n",
    "    return total\n",
    "    \n",
    "    \n",
    "def f6(x):\n",
    "    \"\"\"\n",
    "        Function to calculate the Rastrigin's function.\n",
    "        \n",
    "        Attributes:\n",
    "            x - candidate solution\n",
    "    \"\"\"\n",
    "    total = 0\n",
    "    for i in range(len(x)):\n",
    "        total += x[i]**2 - (10 * np.cos(2 * np.pi * x[i])) + 10\n",
    "        \n",
    "    return total\n",
    "    "
   ]
  },
  {
   "cell_type": "markdown",
   "id": "0a4ab769",
   "metadata": {},
   "source": [
    "## Genetic Algortihm"
   ]
  },
  {
   "cell_type": "code",
   "execution_count": null,
   "id": "d7b779ba",
   "metadata": {},
   "outputs": [],
   "source": []
  },
  {
   "cell_type": "markdown",
   "id": "0008a226",
   "metadata": {},
   "source": [
    "## Particle Swarm Optimization"
   ]
  },
  {
   "cell_type": "code",
   "execution_count": 68,
   "id": "9ad251a5",
   "metadata": {
    "ExecuteTime": {
     "end_time": "2022-11-25T05:43:25.466279Z",
     "start_time": "2022-11-25T05:43:25.398323Z"
    }
   },
   "outputs": [],
   "source": [
    "class Particle:\n",
    "    \"\"\"\n",
    "    Class that represents a candidate solution or a particle in the population of solutions/swarm.\n",
    "    \n",
    "    Attributes:\n",
    "        n_dim - number of dimensions\n",
    "        bounds - the maximum and minimum values for the positions and velocities and the initial range for the position\n",
    "        pos - position of the particle\n",
    "        vel - velocities of the particle along each dimension\n",
    "        output - the output of the function run on the particle\n",
    "        best_pos -  best position of the particle\n",
    "        best_output - best function output of the particle\n",
    "    \"\"\"\n",
    "    def __init__(self, n_dim, bounds): \n",
    "        \n",
    "        self.n_dim = n_dim # represents number of dimensions\n",
    "        self.bounds = bounds # represents bounds asscociated with the acceptable values \n",
    "        self.pos = np.random.uniform(self.bounds[0], self.bounds[1], self.n_dim)  # represents the particle's position \n",
    "        self.vel = np.random.uniform(self.bounds[2], self.bounds[3], self.n_dim) # represents particle's velocity\n",
    "        self.output = 999999999 # represents the output of the objective function when run, for assessing the fitness of the solution\n",
    "        self.best_pos = np.copy(self.pos) # represents the best solution/position of this particle\n",
    "        self.best_output = self.output # represents the best (least) output value computed\n",
    "\n",
    "        \n",
    "    def update_velocity(self, info_best_pos, swarm_best_pos):\n",
    "        \"\"\"\n",
    "        Method to update the velocity of the particle.\n",
    "        \n",
    "        Attributes:\n",
    "            info_best_pos - best position found by one of the informants\n",
    "            swarm_best_pos - best position found by a particle in the swarm\n",
    "        \"\"\"\n",
    "        alpha = 0.8 # inertia weight to decide the weight to give to the previous velocity value- between 0,1\n",
    "        beta = 2 # cognative weight\n",
    "        gamma =  0.001 # social weight\n",
    "        delta = 1.999 # global weight\n",
    "\n",
    "        for i in range(self.n_dim):\n",
    "            # to get 3 uniformly distributed random numbers between 0 and 1 (excluding 1)\n",
    "            r1 = np.random.rand()\n",
    "            r2 = np.random.rand()\n",
    "            r3 = np.random.rand()\n",
    "            \n",
    "            # to calculate each of the components of the velocity update formula- personal velocity's update, difference between the current solution and its own best solution,\n",
    "            # difference between the current solution and the best position found by the informants, and \n",
    "            # difference between the current solution and the best position found by the informants, and  best position found by any particle in the swarm\n",
    "            personal_update = alpha * self.vel[i]\n",
    "            own_best = beta * r1 * (self.best_pos[i]-self.pos[i])\n",
    "            informant_best = gamma * r2 * (info_best_pos[i]-self.pos[i])\n",
    "            global_best = delta * r3 * (swarm_best_pos[i]-self.pos[i])\n",
    "\n",
    "            self.vel[i] = personal_update + own_best + global_best + informant_best # updating the velocity\n",
    "            \n",
    "            # Bounding the velocity calculated to be between the minimum and maximum velocties \n",
    "            # calculated depending on the position bounds given by the optimisation problem.\n",
    "            # The velocity is set to the minimum/maximum depending on the direction of velocity.\n",
    "            if self.vel[i] < self.bounds[2]:\n",
    "                self.vel[i] = self.bounds[2]\n",
    "\n",
    "            if self.vel[i] > self.bounds[3]:\n",
    "                self.vel[i] = self.bounds[3]\n",
    "\n",
    "\n",
    "    def update_position(self, eps):\n",
    "        \"\"\"\n",
    "        Method to update the position of the particle.\n",
    "        \n",
    "        Attributes:\n",
    "            eps - epsilon value in that iteration\n",
    "        \"\"\"\n",
    "        for i in range(self.n_dim):\n",
    "            self.pos[i] += eps * self.vel[i] # to update the position based on the velocity calculated.\n",
    "            \n",
    "            # Bounding the position calculated to be between the minimum and maximum position required by the optimisation problem.\n",
    "            # The position is set to the minimum/maximum depending on its direction.\n",
    "            if self.pos[i] < self.bounds[0]:\n",
    "                self.pos[i] = self.bounds[0]\n",
    "                \n",
    "            if self.pos[i] > self.bounds[1]:\n",
    "                self.pos[i] = self.bounds[1]\n",
    "\n",
    "                \n",
    "def get_informants(particles, num_informants):\n",
    "    \"\"\"\n",
    "        Function to get the informants and the best position found by them.\n",
    "        \n",
    "        Attributes:\n",
    "            particles - list of particles - the swarm\n",
    "            num_informants - number of informants to select\n",
    "    \"\"\"\n",
    "    ints = np.random.randint(0,len(particles),num_informants) # to get random numbers from 0 to num_informants\n",
    "    informants = np.array([particles[i] for i in ints]) # to get the particle at the index given by ints\n",
    "    info_best_pos = np.copy(informants[0].pos) # represents best position found by informants\n",
    "    info_best_output = informants[0].output # represents best output calculated\n",
    "            \n",
    "    for p in informants: # iterating over the informants to find the best outpout and position \n",
    "        if p.output < info_best_output:\n",
    "            info_best_output = p.best_output\n",
    "            info_best_pos = np.copy(p.best_pos)\n",
    "\n",
    "    return informants, info_best_pos # returning the list of informants the best position found\n",
    "\n",
    "\n",
    "def get_func(funcname, particle):\n",
    "    \"\"\"\n",
    "        Function to get the right function and run it for a given particle.\n",
    "        \n",
    "        Attributes:\n",
    "            funcname - name of the function that will be optimized\n",
    "            particle - particle to run the function for\n",
    "    \"\"\"\n",
    "    val = 0\n",
    "    \n",
    "    # depending on the function inputted, run the function on the position of the given particle\n",
    "    if funcname == 'f1':\n",
    "        val = f1(particle.pos)\n",
    "        \n",
    "    elif funcname == 'f4':\n",
    "        val = f4(particle.pos)\n",
    "            \n",
    "    elif funcname == 'f6':\n",
    "        val = f6(particle.pos)\n",
    "\n",
    "    return val\n",
    "\n",
    "    \n",
    "def PSO (funcname,n_dim,num_particles,num_informants,iterations):\n",
    "    \"\"\"\n",
    "    Function to update the position of the particle.\n",
    "        \n",
    "    Attributes:\n",
    "        funcname - the name of the function to be optimized (optimization problem)\n",
    "        n_dim - number of dimensions\n",
    "        num_particles - number of particles that are to be present in the swarm\n",
    "        num_informants - number of particles that are to be used as informants\n",
    "        iterations - number of iterations for the algorithm to run in\n",
    "        \n",
    "    \"\"\"\n",
    "    bounds = get_bounds(funcname) # to obtain the bounds for the positions and velocities relative to the function\n",
    "    particles = ([Particle(n_dim, bounds) for i in range(num_particles)]) # to get the particles for the swarm; to populate the swarm with Particle objects\n",
    "    swarm_best = copy.deepcopy((particles[0])) # set the swarm best to be the first particle initially\n",
    "\n",
    "    # epsilon to be used in computing the positions ranging from 0.4-0.9 \n",
    "    # np.linspace returns iterations valued evenly spaced numbers from 0-iterations value\n",
    "    eps = 0.9 - ((0.9-0.4)/iterations)*np.linspace(0,iterations,iterations)\n",
    "    \n",
    "    informants = np.array([]) # represents the list of informants\n",
    "    info_best_pos = np.array([]) # represents the best position among the informants\n",
    "    best_outputs = np.array([]) # represents the best outputs from each iteration                         \n",
    "    informants, info_best_pos = get_informants(particles, num_informants) # to get the informants and the best postion found by them\n",
    "\n",
    "    i = 0\n",
    "\n",
    "    for i in range(iterations): # to run the optimization loop as many times as given by- iterations\n",
    "        eps1 = eps[i] # to get the psilon value for this iteration\n",
    "        for particle in particles: # to loop over the particles\n",
    "            output = get_func(funcname, particle) # to get the output/fitness of the particle\n",
    "            particle.output = output # to set the particle's current output to the output calculated\n",
    "            \n",
    "            # to check if this position is the best one found until now \n",
    "            # and set the best output and position to be that if that is the case\n",
    "            if particle.best_output > output:\n",
    "                particle.best_output = output\n",
    "                particle.best_pos = copy.deepcopy(particle.pos)\n",
    "                \n",
    "            # if the output is the best found in the swarm, this particle is set as the swarm's best particle\n",
    "            if particle.output < swarm_best.output:\n",
    "                swarm_best = copy.deepcopy(particle)\n",
    "        \n",
    "        # to update the position and the velocity of all the particles\n",
    "        for particle in particles:\n",
    "            particle.update_velocity(info_best_pos, swarm_best.pos)\n",
    "            particle.update_position(eps1)\n",
    "                                                   \n",
    "        # adding the swarm best's output in this iteration to the best_outputs list\n",
    "        best_outputs = np.append(best_outputs,swarm_best.output) \n",
    "        i+=1\n",
    "\n",
    "    print(\"Swarm-best output: \",swarm_best.output)\n",
    "    print(\"Best postion: \",swarm_best.pos)\n",
    "    plt.semilogy(best_outputs) # to print a graph of the best output with the iterations with the y axis scaled by log\n",
    "    #plt.show()\n",
    "    return swarm_best # returning the best particle in the swarm"
   ]
  },
  {
   "cell_type": "code",
   "execution_count": 69,
   "id": "e2184eac",
   "metadata": {
    "ExecuteTime": {
     "end_time": "2022-11-25T05:54:38.971451Z",
     "start_time": "2022-11-25T05:43:26.828020Z"
    }
   },
   "outputs": [
    {
     "name": "stderr",
     "output_type": "stream",
     "text": [
      "No artists with labels found to put in legend.  Note that artists whose label start with an underscore are ignored when legend() is called with no argument.\n"
     ]
    },
    {
     "name": "stdout",
     "output_type": "stream",
     "text": [
      "Swarm-best output:  0.00019257666812204033\n",
      "Best postion:  [0.00512684 0.00739603 0.00446403 0.00197999 0.00064693 0.0038543\n",
      " 0.00571573 0.00609772 0.00160956 0.00016279]\n",
      "--------------------------------------------------------------\n"
     ]
    },
    {
     "name": "stderr",
     "output_type": "stream",
     "text": [
      "No artists with labels found to put in legend.  Note that artists whose label start with an underscore are ignored when legend() is called with no argument.\n"
     ]
    },
    {
     "name": "stdout",
     "output_type": "stream",
     "text": [
      "Swarm-best output:  0.08031665325958326\n",
      "Best postion:  [-3.14469019e+00 -4.38478810e+00  1.04347708e-02 -6.15607859e+00\n",
      " -1.10009644e-02  7.60960180e+00 -2.21235877e-03  8.93288150e+00\n",
      " -1.07271643e-01  9.96274695e+00]\n",
      "--------------------------------------------------------------\n"
     ]
    },
    {
     "name": "stderr",
     "output_type": "stream",
     "text": [
      "No artists with labels found to put in legend.  Note that artists whose label start with an underscore are ignored when legend() is called with no argument.\n"
     ]
    },
    {
     "name": "stdout",
     "output_type": "stream",
     "text": [
      "Swarm-best output:  0.00011197400201368168\n",
      "Best postion:  [ 5.06633980e-05 -2.00230899e-04  1.50074052e-04  1.10327215e-04\n",
      "  3.04443436e-04 -2.67651365e-04  2.13175038e-04 -2.48836449e-04\n",
      " -2.75026449e-04 -3.73802707e-04]\n"
     ]
    },
    {
     "data": {
      "text/plain": [
       "<__main__.Particle at 0x18eb3811670>"
      ]
     },
     "execution_count": 69,
     "metadata": {},
     "output_type": "execute_result"
    },
    {
     "data": {
      "image/png": "[encoded data removed]",
      "text/plain": [
       "<Figure size 432x288 with 1 Axes>"
      ]
     },
     "metadata": {
      "needs_background": "light"
     },
     "output_type": "display_data"
    }
   ],
   "source": [
    "# Run f1/f4/f6\n",
    "PSO (\"f1\",10,300,6,5000) # PSO (funcname,n_dim,num_particles,num_informants,iterations) 100 pop, 1000 it\n",
    "print(\"--------------------------------------------------------------\")\n",
    "PSO (\"f4\",10,300,6,5000)\n",
    "print(\"--------------------------------------------------------------\")\n",
    "PSO (\"f6\",10,300,6,5000) "
   ]
  },
  {
   "cell_type": "code",
   "execution_count": 63,
   "id": "1ddf4a00",
   "metadata": {
    "ExecuteTime": {
     "end_time": "2022-11-22T15:38:34.824451Z",
     "start_time": "2022-11-22T15:38:34.812148Z"
    }
   },
   "outputs": [],
   "source": [
    "# output in certain range cuz if data goes up or down randomly, gives ability to have them similar to real data?\n",
    "# even if 1k layers, linear rel so no learning ahppens; output is linear; all rel are actually non linear; linear is non realistic; irrespective of no of layers or outputs, if linearonly used, all these reduce to work as 1 layer\n",
    "# monotonic, differentiable, "
   ]
  },
  {
   "cell_type": "code",
   "execution_count": null,
   "id": "6e68ea0d",
   "metadata": {
    "ExecuteTime": {
     "end_time": "2022-11-24T01:48:00.583334Z",
     "start_time": "2022-11-24T01:48:00.582340Z"
    }
   },
   "outputs": [],
   "source": [
    "import random\n",
    "import math\n",
    "#import the set of functions F1 to F25\n",
    "# function can have multiple variables 1 to 100 \n",
    "from optproblems import cec2005\n",
    "#import the Individual class that represent any individual solution\n",
    "# this class has two main attributes \n",
    "# phenome: the actual values of the variables\n",
    "# objective_values: the value(s) of the function after evaluation of the Individual\n",
    "# the function evaluate() needs to be executed in order to get objective_values\n",
    "from optproblems import Individual\n",
    "\n",
    "# import BoundConstraintsRepair to repair variables that go out of bounds\n",
    "from optproblems import BoundConstraintsRepair\n",
    "\n",
    "#number of dimensions. \n",
    "# Note that for many functions the number of variables is limited to 2, 10, 30, 50\n",
    "dims = 10\n",
    "# setup objective function\n",
    "#f1 = cec2005.F1(dims)\n",
    "#func = f1\n",
    "#set up bounds, each function has bounds on the variables\n",
    "#min_bound = -100\n",
    "#max_bound = 100\n",
    "# the function can be anyone from CEC2005, e.g.\n",
    "#f4=cec2005.F4(dims)\n",
    "#func= f4\n",
    "#set up bounds, each function has bounds on the variables\n",
    "#min_bound = -100\n",
    "#max_bound = 100\n",
    "##or\n",
    "#f5=cec2005.F4(dims)\n",
    "#func= f5\n",
    "#set up bounds, each function has bounds on the variables\n",
    "#min_bound = -100\n",
    "#max_bound = 100\n",
    "#or\n",
    "f12=cec2005.F6(dims)\n",
    "print(f12.min_bounds)\n",
    "f12.max_bounds\n",
    "#set up bounds, each function has bounds on the variables\n",
    "min_bound = -math.pi\n",
    "max_bound = math.pi \n",
    "\n",
    "# create  bounds\n",
    "bounds = ([min_bound] * dims, [max_bound] * dims)\n",
    "\n",
    "#create the out of bounds repair method\n",
    "# different options exist to repair, \"reflect\" is one of them\n",
    "# you can also use \"project\", \"wrap\", \n",
    "repair = BoundConstraintsRepair(bounds, [\"reflect\"] * dims)\n",
    "# obtain the global optimal solution\n",
    "# global_optima is returned as a list of Individual to allow for multiple optima, usefull for some multimodal functions\n",
    "global_optima = func.get_optimal_solutions()\n",
    "#evaluate the global optimal solution\n",
    "\n",
    "func.batch_evaluate(global_optima)\n",
    "print(\"global solution and  associated objective values:\")\n",
    "for opt in global_optima:\n",
    "    print(opt.phenome,opt.objective_values)\n",
    "\n",
    "# create a random candidate solution (an Individual) using a random vector generated within bounds\n",
    "# the solution is encapsulated in an Individual object in order to evaluate it\n",
    "rand_solution = Individual(phenome=[round(random.uniform(min_bound, max_bound),4) for _ in range(dims)])\n",
    "\n",
    "# here you might want to create a population of solutions\n",
    "#  evaluate them and then \n",
    "#  evolve them according to PSO or GA\n",
    "\n",
    "# You need to keep individual solutions within bounds\n",
    "rand_solution.phenome = repair(rand_solution.phenome)\n",
    "# you might want to check bounds first before repair\n",
    "#  for that, you can use the class BoundConstraintError\n",
    "#  with the boolea methods: min_bound_violated(value, min_bound) and max_bound_violated(value, max_bound)\n",
    "\n",
    "#evaluate the random candidate solution\n",
    "func.evaluate(rand_solution)\n",
    "\n",
    "\n",
    "print(\"Random candidate solution and objective values:\")  \n",
    "#print the radom candidate solution and the associated objective values\n",
    "print(rand_solution.phenome, rand_solution.objective_values)\n",
    "\n",
    "\n"
   ]
  },
  {
   "cell_type": "code",
   "execution_count": 7,
   "id": "60466bfb",
   "metadata": {
    "ExecuteTime": {
     "end_time": "2022-11-24T01:48:31.422035Z",
     "start_time": "2022-11-24T01:48:31.412004Z"
    }
   },
   "outputs": [
    {
     "name": "stdout",
     "output_type": "stream",
     "text": [
      "[-32.0]\n",
      "[32.0]\n"
     ]
    }
   ],
   "source": [
    "f12=cec2005.F8(1)\n",
    "print(f12.min_bounds)\n",
    "print(f12.max_bounds)"
   ]
  }
 ],
 "metadata": {
  "kernelspec": {
   "display_name": "Python 3 (ipykernel)",
   "language": "python",
   "name": "python3"
  },
  "language_info": {
   "codemirror_mode": {
    "name": "ipython",
    "version": 3
   },
   "file_extension": ".py",
   "mimetype": "text/x-python",
   "name": "python",
   "nbconvert_exporter": "python",
   "pygments_lexer": "ipython3",
   "version": "3.9.12"
  }
 },
 "nbformat": 4,
 "nbformat_minor": 5
}

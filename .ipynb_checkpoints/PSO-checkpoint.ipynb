{
 "cells": [
  {
   "cell_type": "markdown",
   "id": "26183030",
   "metadata": {},
   "source": [
    "# Genetic Algorithm and Particle Swarm Optimization"
   ]
  },
  {
   "cell_type": "markdown",
   "id": "e6fd9879",
   "metadata": {},
   "source": [
    "## Importing Libraries"
   ]
  },
  {
   "cell_type": "code",
   "execution_count": 12,
   "id": "5d3e5274",
   "metadata": {
    "ExecuteTime": {
     "end_time": "2022-11-07T16:29:09.034385Z",
     "start_time": "2022-11-07T16:27:54.948268Z"
    }
   },
   "outputs": [
    {
     "name": "stdout",
     "output_type": "stream",
     "text": [
      "Collecting optproblemsNote: you may need to restart the kernel to use updated packages.\n",
      "  Downloading optproblems-1.3.tar.gz (2.0 MB)\n",
      "Building wheels for collected packages: optproblems\n",
      "  Building wheel for optproblems (setup.py): started\n",
      "  Building wheel for optproblems (setup.py): finished with status 'done'\n",
      "  Created wheel for optproblems: filename=optproblems-1.3-py3-none-any.whl size=2040690 sha256=3f1851c9afb171d2a1343cd51d8385fda0fa4f02cfe52de44b3dc27639f0e2bd\n",
      "  Stored in directory: c:\\users\\geeta\\appdata\\local\\pip\\cache\\wheels\\52\\6d\\85\\cae29bdf0723616b70cb1161ddeaa599b3f18297ff70ccf411\n",
      "Successfully built optproblems\n",
      "Installing collected packages: optproblems\n",
      "Successfully installed optproblems-1.3\n",
      "\n"
     ]
    }
   ],
   "source": [
    "# uncomment the next line when running the file for the first time\n",
    "# pip install optproblems"
   ]
  },
  {
   "cell_type": "code",
   "execution_count": 1,
   "id": "384fdaa5",
   "metadata": {
    "ExecuteTime": {
     "end_time": "2022-11-26T02:09:16.380733Z",
     "start_time": "2022-11-26T02:08:58.794747Z"
    }
   },
   "outputs": [],
   "source": [
    "import numpy as np\n",
    "import random\n",
    "import copy\n",
    "import matplotlib.pyplot as plt\n",
    "import math\n",
    "random.seed(40)\n",
    "np.random.seed(40)"
   ]
  },
  {
   "cell_type": "markdown",
   "id": "6bce6baf",
   "metadata": {},
   "source": [
    "## Optimization Functions"
   ]
  },
  {
   "cell_type": "code",
   "execution_count": 2,
   "id": "2c2cd567",
   "metadata": {
    "ExecuteTime": {
     "end_time": "2022-11-26T02:09:16.607559Z",
     "start_time": "2022-11-26T02:09:16.392027Z"
    }
   },
   "outputs": [],
   "source": [
    "def get_bounds(funcname):\n",
    "    \"\"\"\n",
    "        Function to get the lower and upper bounds of the position and velocity of a particle.\n",
    "        \n",
    "        Attributes:\n",
    "            funcname - name of the function that will be optimized\n",
    "    \"\"\"\n",
    "    min_bound = 0 # minimum position value\n",
    "    max_bound = 0 # maximum position value\n",
    "    \n",
    "    if funcname == 'f1':\n",
    "        min_bound = -100\n",
    "        max_bound = 100\n",
    "        \n",
    "    elif funcname == \"f4\":\n",
    "        min_bound = -600\n",
    "        max_bound = 600\n",
    "            \n",
    "    elif funcname == \"f6\":\n",
    "        min_bound = -5.12\n",
    "        max_bound = 5.12\n",
    "        \n",
    "    # minimum and maximum permissible velocity values\n",
    "    min_vel_bound = -0.2*(max_bound-min_bound)\n",
    "    max_vel_bound = 0.2*(max_bound-min_bound)\n",
    "    return (min_bound, max_bound, min_vel_bound, max_vel_bound)\n",
    "       \n",
    "def f1(x):\n",
    "    \"\"\"\n",
    "        Function to calculate the Sphere function.\n",
    "        \n",
    "        Attributes:\n",
    "            x - candidate solution\n",
    "    \"\"\"\n",
    "    total = 0\n",
    "    total = np.sum(np.square(x))\n",
    "    return total\n",
    "\n",
    "def f4(x):\n",
    "    \"\"\"\n",
    "        Function to calculate the Griewank's function.\n",
    "        \n",
    "        Attributes:\n",
    "            x - candidate solution\n",
    "    \"\"\"\n",
    "    total = 0\n",
    "    p1 = 0\n",
    "    p2 = 1\n",
    "    for i in range(len(x)):\n",
    "        p1 += x[i]**2\n",
    "        p2 *= np.cos(x[i]/(np.sqrt(i+1)))\n",
    "    \n",
    "    total = (p1/4000.0) - p2 + 1\n",
    "    return total\n",
    "    \n",
    "    \n",
    "def f6(x):\n",
    "    \"\"\"\n",
    "        Function to calculate the Rastrigin's function.\n",
    "        \n",
    "        Attributes:\n",
    "            x - candidate solution\n",
    "    \"\"\"\n",
    "    total = 0\n",
    "    for i in range(len(x)):\n",
    "        total += x[i]**2 - (10 * np.cos(2 * np.pi * x[i])) + 10\n",
    "        \n",
    "    return total\n",
    "    "
   ]
  },
  {
   "cell_type": "markdown",
   "id": "0a4ab769",
   "metadata": {},
   "source": [
    "## Genetic Algortihm"
   ]
  },
  {
   "cell_type": "code",
   "execution_count": null,
   "id": "d7b779ba",
   "metadata": {},
   "outputs": [],
   "source": []
  },
  {
   "cell_type": "markdown",
   "id": "0008a226",
   "metadata": {},
   "source": [
    "## Particle Swarm Optimization"
   ]
  },
  {
   "cell_type": "code",
   "execution_count": 30,
   "id": "9ad251a5",
   "metadata": {
    "ExecuteTime": {
     "end_time": "2022-11-26T03:09:53.410082Z",
     "start_time": "2022-11-26T03:09:53.360917Z"
    }
   },
   "outputs": [],
   "source": [
    "class Particle:\n",
    "    \"\"\"\n",
    "    Class that represents a candidate solution or a particle in the population of solutions/swarm.\n",
    "    \n",
    "    Attributes:\n",
    "        n_dim - number of dimensions\n",
    "        bounds - the maximum and minimum values for the positions and velocities and the initial range for the position\n",
    "        pos - position of the particle\n",
    "        vel - velocities of the particle along each dimension\n",
    "        output - the output of the function run on the particle\n",
    "        best_pos -  best position of the particle\n",
    "        best_output - best function output of the particle\n",
    "    \"\"\"\n",
    "    def __init__(self, n_dim, bounds): \n",
    "        \n",
    "        self.n_dim = n_dim # represents number of dimensions\n",
    "        self.bounds = bounds # represents bounds asscociated with the acceptable values \n",
    "        self.pos = np.random.uniform(self.bounds[0], self.bounds[1], self.n_dim)  # represents the particle's position \n",
    "        self.vel = np.random.uniform(self.bounds[2], self.bounds[3], self.n_dim) # represents particle's velocity\n",
    "        self.output = 999999999 # represents the output of the objective function when run, for assessing the fitness of the solution\n",
    "        self.best_pos = np.copy(self.pos) # represents the best solution/position of this particle\n",
    "        self.best_output = self.output # represents the best (least) output value computed\n",
    "\n",
    "        \n",
    "    def update_velocity(self, info_best_pos, swarm_best_pos, weights):\n",
    "        \"\"\"\n",
    "        Method to update the velocity of the particle.\n",
    "        \n",
    "        Attributes:\n",
    "            info_best_pos - best position found by one of the informants\n",
    "            swarm_best_pos - best position found by a particle in the swarm\n",
    "            weights - the pweights for velocity update\n",
    "        \"\"\"\n",
    "        alpha = weights[0] # inertia weight to decide the weight to give to the previous velocity value- between 0,1\n",
    "        beta = weights[1]  # cognative weight\n",
    "        gamma = weights[2]  # social weight\n",
    "        delta =  weights[3] # global weight\n",
    "\n",
    "        for i in range(self.n_dim):\n",
    "            # to get 3 uniformly distributed random numbers between 0 and 1 (excluding 1)\n",
    "            r1 = np.random.rand()\n",
    "            r2 = np.random.rand()\n",
    "            r3 = np.random.rand()\n",
    "            \n",
    "            # to calculate each of the components of the velocity update formula- personal velocity's update, difference between the current solution and its own best solution,\n",
    "            # difference between the current solution and the best position found by the informants, and \n",
    "            # difference between the current solution and the best position found by the informants, and  best position found by any particle in the swarm\n",
    "            personal_update = alpha * self.vel[i]\n",
    "            own_best = beta * r1 * (self.best_pos[i]-self.pos[i])\n",
    "            informant_best = gamma * r2 * (info_best_pos[i]-self.pos[i])\n",
    "            global_best = delta * r3 * (swarm_best_pos[i]-self.pos[i])\n",
    "\n",
    "            self.vel[i] = personal_update + own_best + global_best + informant_best # updating the velocity\n",
    "            \n",
    "            # Bounding the velocity calculated to be between the minimum and maximum velocties \n",
    "            # calculated depending on the position bounds given by the optimisation problem.\n",
    "            # The velocity is set to the minimum/maximum depending on the direction of velocity.\n",
    "            if self.vel[i] < self.bounds[2]:\n",
    "                self.vel[i] = self.bounds[2]\n",
    "\n",
    "            if self.vel[i] > self.bounds[3]:\n",
    "                self.vel[i] = self.bounds[3]\n",
    "\n",
    "\n",
    "    def update_position(self, eps):\n",
    "        \"\"\"\n",
    "        Method to update the position of the particle.\n",
    "        \n",
    "        Attributes:\n",
    "            eps - epsilon value in that iteration\n",
    "        \"\"\"\n",
    "        for i in range(self.n_dim):\n",
    "            self.pos[i] += eps * self.vel[i] # to update the position based on the velocity calculated.\n",
    "            \n",
    "            # Bounding the position calculated to be between the minimum and maximum position required by the optimisation problem.\n",
    "            # The position is set to the minimum/maximum depending on its direction.\n",
    "            if self.pos[i] < self.bounds[0]:\n",
    "                self.pos[i] = self.bounds[0]\n",
    "                \n",
    "            if self.pos[i] > self.bounds[1]:\n",
    "                self.pos[i] = self.bounds[1]\n",
    "\n",
    "                \n",
    "def get_informants(particles, num_informants):\n",
    "    \"\"\"\n",
    "        Function to get the informants and the best position found by them.\n",
    "        \n",
    "        Attributes:\n",
    "            particles - list of particles - the swarm\n",
    "            num_informants - number of informants to select\n",
    "    \"\"\"\n",
    "    ints = np.random.randint(0,len(particles),num_informants) # to get random numbers from 0 to num_informants\n",
    "    informants = np.array([particles[i] for i in ints]) # to get the particle at the index given by ints\n",
    "    info_best_pos = np.copy(informants[0].best_pos) # represents best position found by informants\n",
    "    info_best_output = informants[0].best_output # represents best output calculated\n",
    "            \n",
    "    for p in informants: # iterating over the informants to find the best outpout and position \n",
    "        if p.best_output < info_best_output:\n",
    "            info_best_output = p.best_output\n",
    "            info_best_pos = np.copy(p.best_pos)\n",
    "\n",
    "    return informants, info_best_pos # returning the list of informants the best position found\n",
    "\n",
    "\n",
    "def get_func(funcname, particle):\n",
    "    \"\"\"\n",
    "        Function to get the right function and run it for a given particle.\n",
    "        \n",
    "        Attributes:\n",
    "            funcname - name of the function that will be optimized\n",
    "            particle - particle to run the function for\n",
    "    \"\"\"\n",
    "    val = 0\n",
    "    \n",
    "    # depending on the function inputted, run the function on the position of the given particle\n",
    "    if funcname == 'f1':\n",
    "        val = f1(particle.pos)\n",
    "        \n",
    "    elif funcname == 'f4':\n",
    "        val = f4(particle.pos)\n",
    "            \n",
    "    elif funcname == 'f6':\n",
    "        val = f6(particle.pos)\n",
    "\n",
    "    return val\n",
    "\n",
    "    \n",
    "def PSO (funcname,n_dim,num_particles,num_informants,iterations, weights):\n",
    "    \"\"\"\n",
    "    Function to update the position of the particle.\n",
    "        \n",
    "    Attributes:\n",
    "        funcname - the name of the function to be optimized (optimization problem)\n",
    "        n_dim - number of dimensions\n",
    "        num_particles - number of particles that are to be present in the swarm\n",
    "        num_informants - number of particles that are to be used as informants\n",
    "        iterations - number of iterations for the algorithm to run in\n",
    "        weights - the weights for velocity update in order of - [alpha,beta,gamma,delta]\n",
    "        \n",
    "    \"\"\"\n",
    "    bounds = get_bounds(funcname) # to obtain the bounds for the positions and velocities relative to the function\n",
    "    particles = ([Particle(n_dim, bounds) for i in range(num_particles)]) # to get the particles for the swarm; to populate the swarm with Particle objects\n",
    "    swarm_best = copy.deepcopy((particles[0])) # set the swarm best to be the first particle initially\n",
    "\n",
    "    # epsilon to be used in computing the positions ranging from 0.4-0.9 \n",
    "    # np.linspace returns iterations valued evenly spaced numbers from 0-iterations value\n",
    "    eps = 0.9 - ((0.9-0.4)/iterations)*np.linspace(0,iterations,iterations)\n",
    "    \n",
    "    informants = np.array([]) # represents the list of informants\n",
    "    info_best_pos = np.array([]) # represents the best position among the informants\n",
    "    best_outputs = np.array([]) # represents the best outputs from each iteration                         \n",
    "    informants, info_best_pos = get_informants(particles, num_informants) # to get the informants and the best postion found by them\n",
    "\n",
    "    i = 0\n",
    "\n",
    "    for i in range(iterations): # to run the optimization loop as many times as given by- iterations\n",
    "        eps1 = eps[i] # to get the psilon value for this iteration\n",
    "        for particle in particles: # to loop over the particles\n",
    "            output = get_func(funcname, particle) # to get the output/fitness of the particle\n",
    "            particle.output = output # to set the particle's current output to the output calculated\n",
    "            \n",
    "            # to check if this position is the best one found until now \n",
    "            # and set the best output and position to be that if that is the case\n",
    "            if particle.best_output > output:\n",
    "                particle.best_output = output\n",
    "                particle.best_pos = copy.deepcopy(particle.pos)\n",
    "                \n",
    "            # if the output is the best found in the swarm, this particle is set as the swarm's best particle\n",
    "            if particle.output < swarm_best.best_output:\n",
    "                swarm_best = copy.deepcopy(particle)\n",
    "        \n",
    "        # the swarm best's position and output are the same as best position and output\n",
    "        # to update the position and the velocity of all the particles\n",
    "        for particle in particles:\n",
    "            particle.update_velocity(info_best_pos, swarm_best.best_pos, weights)\n",
    "            particle.update_position(eps1)\n",
    "                                                   \n",
    "        # adding the swarm best's output in this iteration to the best_outputs list\n",
    "        best_outputs = np.append(best_outputs,swarm_best.best_output) \n",
    "        i+=1\n",
    "\n",
    "    print(\"Swarm-best output: \",swarm_best.output)\n",
    "    print(\"Best postion: \",swarm_best.pos)\n",
    "    plt.semilogy(best_outputs) # to print a graph of the best output with the iterations with the y axis scaled by log\n",
    "    #plt.show()\n",
    "    return swarm_best # returning the best particle in the swarm"
   ]
  },
  {
   "cell_type": "markdown",
   "id": "251eef48",
   "metadata": {},
   "source": [
    "## Experimenting with Hyperparameter Values"
   ]
  },
  {
   "cell_type": "markdown",
   "id": "89ff0ab5",
   "metadata": {},
   "source": [
    "### PSO\n",
    "PSO (funcname,n_dim,num_particles,num_informants,iterations,weights)  \n",
    "\n",
    "For each of the functions,\n",
    "1. Calculate average best output from 10 runs  \n",
    "2. Experiment with alpha  \n",
    "3. Experiment with population sizes\n",
    "4. Experiment with number of iterations"
   ]
  },
  {
   "cell_type": "markdown",
   "id": "946bb65d",
   "metadata": {},
   "source": [
    "#### F1"
   ]
  },
  {
   "cell_type": "code",
   "execution_count": 52,
   "id": "00f565ba",
   "metadata": {
    "ExecuteTime": {
     "end_time": "2022-11-26T03:37:53.433040Z",
     "start_time": "2022-11-26T03:34:54.961440Z"
    },
    "scrolled": true
   },
   "outputs": [
    {
     "name": "stdout",
     "output_type": "stream",
     "text": [
      "Swarm-best output:  0.0005192924279832691\n",
      "Best postion:  [-0.00373081  0.00347165  0.00369639  0.00515573 -0.00122095 -0.00910844\n",
      "  0.01239911 -0.00918507 -0.00240039  0.01116945]\n",
      "Swarm-best output:  0.000289797823444314\n",
      "Best postion:  [-7.12071748e-03 -3.58370391e-03  9.15032814e-03  6.62439609e-03\n",
      " -7.39518620e-05  3.11212433e-04  3.40432208e-03  7.52554226e-03\n",
      "  3.65270481e-03 -4.11963274e-03]\n",
      "Swarm-best output:  0.00022318820237360011\n",
      "Best postion:  [-0.00197525  0.00420235 -0.00279718 -0.00557623 -0.01083995  0.00312946\n",
      " -0.00193362  0.00502816 -0.0017332   0.00183979]\n",
      "Swarm-best output:  0.00040918672712240273\n",
      "Best postion:  [ 0.01096433  0.00167763 -0.01220753 -0.00680587 -0.00527367 -0.0003689\n",
      " -0.00108216 -0.00371597  0.00681448  0.00120325]\n",
      "Swarm-best output:  0.00023548384202414944\n",
      "Best postion:  [ 0.00539864 -0.00560403  0.0018127  -0.00034216 -0.00321554  0.0042085\n",
      " -0.0070513   0.00724217  0.00337907  0.00546728]\n",
      "Swarm-best output:  0.00021501417492034343\n",
      "Best postion:  [-0.00443757 -0.0003887  -0.0075159  -0.00304214  0.00401981 -0.00353785\n",
      "  0.00164086  0.00247235 -0.0049745  -0.00819767]\n",
      "Swarm-best output:  0.0014382470941935604\n",
      "Best postion:  [ 6.24165839e-03  5.94148504e-03 -1.22640317e-02 -6.69400855e-03\n",
      " -7.71455573e-03 -1.04763034e-05  1.34365039e-02  1.62840041e-02\n",
      " -1.66881211e-02  1.96228192e-02]\n",
      "Swarm-best output:  0.0001986520974599452\n",
      "Best postion:  [ 0.00543367  0.00075943  0.00514796 -0.00268769 -0.00240332  0.00053442\n",
      " -0.00614001  0.00385769 -0.00839145  0.00240124]\n",
      "Swarm-best output:  0.0005630487038050139\n",
      "Best postion:  [-0.00302735  0.0021427  -0.01436107 -0.00839468 -0.00357732  0.00447415\n",
      "  0.0117917  -0.00029211  0.00317872  0.00951487]\n",
      "Swarm-best output:  0.0001750328499256561\n",
      "Best postion:  [ 4.12765021e-03  4.91623163e-05  9.16760486e-04 -6.37219986e-03\n",
      "  2.67782133e-03 -6.63402718e-03 -1.76290027e-03 -1.42090115e-03\n",
      "  4.27599064e-03 -6.47731725e-03]\n",
      "Average swarm-best output: 0.00042669439432522544\n"
     ]
    },
    {
     "data": {
      "image/png": "[encoded data removed]",
      "text/plain": [
       "<Figure size 432x288 with 1 Axes>"
      ]
     },
     "metadata": {
      "needs_background": "light"
     },
     "output_type": "display_data"
    }
   ],
   "source": [
    "# Calculating average best output values after running the algorithm with the same parameters mutliple times\n",
    "avg = 0\n",
    "n = 10\n",
    "for i in range(n):\n",
    "    best = PSO (\"f1\",10,300,6,1000,[0.7, 2, 0.001, 1.999])\n",
    "    avg += best.output\n",
    "print(\"Average swarm-best output:\",avg/n)"
   ]
  },
  {
   "cell_type": "code",
   "execution_count": null,
   "id": "c0a69b2e",
   "metadata": {},
   "outputs": [],
   "source": [
    "# output varies with alpha while the other parameters have been chosen after various considerations\n",
    "a = [0.1,0.2,0.3,0.4,0.5,0.6,0.7,0.8,0.9] # usually decreases with increase in alpha but rises usually at 0.5\n",
    "for alpha in a:\n",
    "    print(\"alpha-\",alpha)\n",
    "    best = PSO (\"f1\",10,300,6,1000,[alpha, 2, 0.001, 1.999])\n",
    "    print('\\n')"
   ]
  },
  {
   "cell_type": "code",
   "execution_count": null,
   "id": "7bb098cd",
   "metadata": {},
   "outputs": [],
   "source": [
    "# checking with different population sizes\n",
    "sizes = [30,50,100,200,300,400,500,1000]\n",
    "for size in sizes:\n",
    "    print(\"size-\",size)\n",
    "    best = PSO (\"f1\",10,size,6,1000,[0.7, 2, 0.001, 1.999])\n",
    "    print('\\n')"
   ]
  },
  {
   "cell_type": "code",
   "execution_count": null,
   "id": "cb3489ab",
   "metadata": {},
   "outputs": [],
   "source": [
    "# checking with different number of iterations\n",
    "iters = [1000,2000,3000,5000,10000]\n",
    "for iter1 in iters:\n",
    "    print(\"iterations-\",iter1)\n",
    "    best = PSO (\"f1\",10,300,6,iter1,[0.7, 2, 0.001, 1.999])\n",
    "    print('\\n')"
   ]
  },
  {
   "cell_type": "code",
   "execution_count": null,
   "id": "dea41cf7",
   "metadata": {},
   "outputs": [],
   "source": [
    "PSO (\"f1\",10,300,6,10000,[0.7, 2, 0.001, 1.999]) # best found, iterations can be increased further for better performance"
   ]
  },
  {
   "cell_type": "markdown",
   "id": "d737a9b9",
   "metadata": {},
   "source": [
    "#### F4"
   ]
  },
  {
   "cell_type": "code",
   "execution_count": 69,
   "id": "d8f9ffa1",
   "metadata": {
    "ExecuteTime": {
     "end_time": "2022-11-26T04:10:28.245989Z",
     "start_time": "2022-11-26T04:09:33.114561Z"
    }
   },
   "outputs": [
    {
     "name": "stdout",
     "output_type": "stream",
     "text": [
      "Swarm-best output:  0.06721007202941542\n",
      "Best postion:  [ 6.26054583e+00 -4.43230423e+00  5.47117737e-03  6.25309631e+00\n",
      "  1.54124857e-02 -2.35169666e-02 -8.32485154e+00  6.36162941e-02\n",
      " -6.59551679e-03 -9.83890558e+00]\n",
      "Average swarm-best output: 0.06721007202941542\n"
     ]
    },
    {
     "data": {
      "image/png": "[encoded data removed]",
      "text/plain": [
       "<Figure size 432x288 with 1 Axes>"
      ]
     },
     "metadata": {
      "needs_background": "light"
     },
     "output_type": "display_data"
    }
   ],
   "source": [
    "# Calculating average best output values after running the algorithm with the same parameters mutliple times\n",
    "avg = 0\n",
    "n = 10\n",
    "for i in range(n):\n",
    "    best = PSO (\"f4\",10,50,6,1000,[0.7, 2, 0.001, 1.999])\n",
    "    avg += best.output\n",
    "print(\"Average swarm-best output:\",avg/n)"
   ]
  },
  {
   "cell_type": "code",
   "execution_count": 72,
   "id": "4f81a2f1",
   "metadata": {
    "ExecuteTime": {
     "end_time": "2022-11-26T04:14:48.190270Z",
     "start_time": "2022-11-26T04:14:09.738709Z"
    },
    "scrolled": true
   },
   "outputs": [
    {
     "name": "stdout",
     "output_type": "stream",
     "text": [
      "alpha- 0.1\n",
      "Swarm-best output:  0.24145240014040203\n",
      "Best postion:  [ 6.27117142e+00  4.46522935e+00  5.37213117e+00 -6.22929019e+00\n",
      " -6.93492279e+00 -1.62201888e-02 -8.28603753e+00  2.66314082e+01\n",
      " -1.24876444e-01  3.96415372e-02]\n",
      "\n",
      "\n",
      "alpha- 0.2\n",
      "Swarm-best output:  1.298796461753582\n",
      "Best postion:  [ 6.90891197e+01  4.43783281e-02 -1.09132723e+01 -8.37143821e-02\n",
      " -7.01353031e+00 -5.68089339e-02  8.32384083e+00 -8.93835314e+00\n",
      "  9.40481958e+00  1.81065377e-01]\n",
      "\n",
      "\n",
      "alpha- 0.3\n",
      "Swarm-best output:  0.23196167249092414\n",
      "Best postion:  [ 9.41775478e+00 -4.44723989e+00  5.34365169e+00 -1.88262073e+01\n",
      " -6.97711128e+00 -7.73962975e+00 -1.23008066e-01 -1.77403456e+01\n",
      " -8.80551048e-03 -3.03106432e-02]\n",
      "\n",
      "\n",
      "alpha- 0.4\n",
      "Swarm-best output:  0.12784744560023142\n",
      "Best postion:  [ 8.50725718e-03  4.47248903e+00 -1.08538577e+01 -1.26534947e+01\n",
      "  7.02544647e+00 -3.70718441e-02  8.32278637e+00 -9.12205962e-03\n",
      " -9.34703863e+00 -3.52477513e-02]\n",
      "\n",
      "\n",
      "alpha- 0.5\n",
      "Swarm-best output:  0.11606911304763223\n",
      "Best postion:  [-3.14020186e+00  4.50163445e-03  1.08987646e+01 -6.24854814e+00\n",
      "  7.14483198e+00 -7.65399929e+00  8.13039888e+00 -3.26939476e-02\n",
      " -2.50172484e-02 -1.00542088e+01]\n",
      "\n",
      "\n",
      "alpha- 0.6\n",
      "Swarm-best output:  0.048758607201569104\n",
      "Best postion:  [ 3.15258431e+00 -3.07398661e-02  5.44751189e+00 -5.52611085e-02\n",
      " -4.18864672e-02  1.69222091e-02  8.18852667e+00 -8.76602060e+00\n",
      "  5.95930276e-03  1.69215334e-02]\n",
      "\n",
      "\n",
      "alpha- 0.7\n",
      "Swarm-best output:  0.07057680383383358\n",
      "Best postion:  [ 9.46833848  0.03736213 -5.46071309  0.11266443  0.05400364  7.67248212\n",
      " -0.04414455  0.04515714 -9.33271759  0.06327682]\n",
      "\n",
      "\n",
      "alpha- 0.8\n",
      "Swarm-best output:  0.07515252194294653\n",
      "Best postion:  [-3.11301346 -8.84492598 -0.09792698 -6.30733706  6.99967723 -0.09649404\n",
      "  0.03060308  0.04599648  0.13423825  9.69052247]\n",
      "\n",
      "\n",
      "alpha- 0.9\n",
      "Swarm-best output:  0.291890223866464\n",
      "Best postion:  [-9.14399868 -8.94824421 -0.2465856   6.04723099 -7.09043446 -7.57633349\n",
      " -0.13100661 16.92989019  0.314086   -0.92048504]\n",
      "\n",
      "\n"
     ]
    },
    {
     "data": {
      "image/png": "[encoded data removed]",
      "text/plain": [
       "<Figure size 432x288 with 1 Axes>"
      ]
     },
     "metadata": {
      "needs_background": "light"
     },
     "output_type": "display_data"
    }
   ],
   "source": [
    "# checking with different alpha values\n",
    "a = [0.1,0.2,0.3,0.4,0.5,0.6,0.7,0.8,0.9]\n",
    "for alpha in a:\n",
    "    print(\"alpha-\",alpha)\n",
    "    best = PSO (\"f4\",10,50,6,1000,[alpha, 2, 0.001, 1.999])\n",
    "    print('\\n')"
   ]
  },
  {
   "cell_type": "code",
   "execution_count": null,
   "id": "135cb033",
   "metadata": {},
   "outputs": [],
   "source": [
    "# checking with different population sizes\n",
    "sizes = [10,30,50,80,100,300,500,1000]\n",
    "for size in sizes:\n",
    "    print(\"size-\",size)\n",
    "    best = PSO (\"f4\",10,size,6,1000,[0.7, 2, 0.001, 1.999])\n",
    "    print('\\n')"
   ]
  },
  {
   "cell_type": "code",
   "execution_count": null,
   "id": "7dd0e56b",
   "metadata": {},
   "outputs": [],
   "source": [
    "# checking with different number of iterations\n",
    "iters = [1000,2000,3000,5000,10000]\n",
    "for iter1 in iters:\n",
    "    print(\"iterations-\",iter1)\n",
    "    best = PSO (\"f4\",10,50,6,iter1,[0.7, 2, 0.001, 1.999])\n",
    "    print('\\n')"
   ]
  },
  {
   "cell_type": "code",
   "execution_count": null,
   "id": "eda53b63",
   "metadata": {},
   "outputs": [],
   "source": [
    "PSO (\"f4\",10,50,6,1000,[0.7, 2, 0.001, 1.999]) # best performing values"
   ]
  },
  {
   "cell_type": "markdown",
   "id": "4ec65e25",
   "metadata": {},
   "source": [
    "#### F6"
   ]
  },
  {
   "cell_type": "code",
   "execution_count": 76,
   "id": "55c7113d",
   "metadata": {
    "ExecuteTime": {
     "end_time": "2022-11-26T04:20:27.673483Z",
     "start_time": "2022-11-26T04:20:20.802120Z"
    }
   },
   "outputs": [
    {
     "name": "stdout",
     "output_type": "stream",
     "text": [
      "Swarm-best output:  2.985658531953133\n",
      "Best postion:  [ 3.00188582e-04  9.93966469e-01  7.40897308e-05  1.09296485e-03\n",
      " -3.65705598e-04 -9.95475760e-01  3.58646819e-04  7.17399422e-04\n",
      " -6.26451562e-04  9.95435925e-01]\n",
      "Average swarm-best output: 2.985658531953133\n"
     ]
    },
    {
     "data": {
      "image/png": "[encoded data removed]",
      "text/plain": [
       "<Figure size 432x288 with 1 Axes>"
      ]
     },
     "metadata": {
      "needs_background": "light"
     },
     "output_type": "display_data"
    }
   ],
   "source": [
    "# Calculating average best output values after running the algorithm with the same parameters mutliple times\n",
    "avg = 0\n",
    "n = 1\n",
    "for i in range(n):\n",
    "    best = PSO (\"f6\",10,200,6,1000,[0.8, 2, 0.001, 1.999])\n",
    "    avg += best.output\n",
    "print(\"Average swarm-best output:\",avg/n)"
   ]
  },
  {
   "cell_type": "code",
   "execution_count": 78,
   "id": "d96bb583",
   "metadata": {
    "ExecuteTime": {
     "end_time": "2022-11-26T04:24:04.564233Z",
     "start_time": "2022-11-26T04:22:57.593315Z"
    },
    "scrolled": true
   },
   "outputs": [
    {
     "name": "stdout",
     "output_type": "stream",
     "text": [
      "alpha- 0.1\n",
      "Swarm-best output:  9.949801213633696\n",
      "Best postion:  [ 9.95091553e-01  1.99032561e+00 -9.95281970e-01 -1.82965991e-04\n",
      " -9.94757115e-01  6.80925754e-05 -9.94336482e-01  9.94582106e-01\n",
      "  9.94642864e-01  2.95821969e-04]\n",
      "\n",
      "\n",
      "alpha- 0.2\n",
      "Swarm-best output:  1.9902378124998599\n",
      "Best postion:  [-9.95280054e-01  2.33260053e-04  5.48392755e-05 -8.92810406e-04\n",
      " -1.37136995e-04  9.94942777e-01  1.17695022e-04 -4.25031348e-04\n",
      " -3.87909625e-04  5.38169789e-04]\n",
      "\n",
      "\n",
      "alpha- 0.3\n",
      "Swarm-best output:  10.945486479223915\n",
      "Best postion:  [-9.94996088e-01  7.84044608e-04  9.95185021e-01 -1.98860667e+00\n",
      "  9.95217783e-01  9.94579781e-01 -9.93895590e-01 -9.95647933e-01\n",
      "  6.94531643e-04  9.95245373e-01]\n",
      "\n",
      "\n",
      "alpha- 0.4\n",
      "Swarm-best output:  8.955429716665126\n",
      "Best postion:  [-9.94515036e-01 -9.94948326e-01 -3.30012459e-04 -2.58103779e-04\n",
      "  1.99054569e+00  9.93663572e-01 -9.95024389e-01 -4.68541835e-04\n",
      " -9.95654358e-01  9.44503521e-04]\n",
      "\n",
      "\n",
      "alpha- 0.5\n",
      "Swarm-best output:  3.9802245813736103\n",
      "Best postion:  [ 2.99026718e-04  9.94997827e-01  8.62477405e-04 -3.29424741e-04\n",
      " -6.07945447e-04 -9.94633889e-01 -9.94997320e-01  6.93863618e-05\n",
      " -9.94341170e-01 -3.89602763e-04]\n",
      "\n",
      "\n",
      "alpha- 0.6\n",
      "Swarm-best output:  7.960271918206695\n",
      "Best postion:  [-9.94147183e-01 -9.95677913e-01 -1.98952930e+00  1.05245513e-04\n",
      "  9.10368770e-04 -4.79492386e-04 -9.94818200e-01 -6.74947627e-04\n",
      "  9.95356719e-01 -1.48382756e-04]\n",
      "\n",
      "\n",
      "alpha- 0.7\n",
      "Swarm-best output:  2.9853391135261322\n",
      "Best postion:  [-9.94493581e-01  2.39909259e-04 -5.29022772e-04  9.94275797e-01\n",
      " -9.95761351e-01  2.93643914e-04  4.04840054e-04  4.48792085e-04\n",
      " -3.30775328e-04  3.22213259e-04]\n",
      "\n",
      "\n",
      "alpha- 0.8\n",
      "Swarm-best output:  2.9855244545100934\n",
      "Best postion:  [ 5.78814804e-04  6.42542597e-05  9.95535052e-01 -9.63922423e-04\n",
      " -4.11677906e-04  9.94679267e-01 -4.78054463e-04  3.24891542e-05\n",
      " -9.22324046e-04 -9.94380130e-01]\n",
      "\n",
      "\n",
      "alpha- 0.9\n",
      "Swarm-best output:  4.013350969009052\n",
      "Best postion:  [ 0.00904017 -0.99147797  0.00158909  0.99042642  0.99223    -0.99315582\n",
      " -0.00536859 -0.00298713 -0.00102128 -0.001613  ]\n",
      "\n",
      "\n"
     ]
    },
    {
     "data": {
      "image/png": "[encoded data removed]",
      "text/plain": [
       "<Figure size 432x288 with 1 Axes>"
      ]
     },
     "metadata": {
      "needs_background": "light"
     },
     "output_type": "display_data"
    }
   ],
   "source": [
    "# checking with different alpha values\n",
    "a = [0.1,0.2,0.3,0.4,0.5,0.6,0.7,0.8,0.9]\n",
    "for alpha in a:\n",
    "    print(\"alpha-\",alpha)\n",
    "    best = PSO (\"f6\",10,200,6,1000,[alpha, 2, 0.001, 1.999])\n",
    "    print('\\n')"
   ]
  },
  {
   "cell_type": "code",
   "execution_count": null,
   "id": "2861a089",
   "metadata": {},
   "outputs": [],
   "source": [
    "# checking with different population sizes\n",
    "sizes = [10,30,50,80,100,300,500,1000]\n",
    "for size in sizes:\n",
    "    print(\"size-\",size)\n",
    "    best = PSO (\"f6\",10,size,6,1000,[0.8, 2, 0.001, 1.999])\n",
    "    print('\\n')"
   ]
  },
  {
   "cell_type": "code",
   "execution_count": null,
   "id": "f95db311",
   "metadata": {},
   "outputs": [],
   "source": [
    "# checking with different number of iterations\n",
    "iters = [1000,2000,3000,5000,10000]\n",
    "for iter1 in iters:\n",
    "    print(\"iterations-\",iter1)\n",
    "    best = PSO (\"f6\",10,300,6,iter1,[0.8, 2, 0.001, 1.999])\n",
    "    print('\\n')"
   ]
  },
  {
   "cell_type": "code",
   "execution_count": 81,
   "id": "02315d43",
   "metadata": {
    "ExecuteTime": {
     "end_time": "2022-11-26T04:29:09.596532Z",
     "start_time": "2022-11-26T04:25:04.092868Z"
    }
   },
   "outputs": [
    {
     "name": "stdout",
     "output_type": "stream",
     "text": [
      "Swarm-best output:  4.244501697669989e-05\n",
      "Best postion:  [ 1.54163727e-04  1.28193209e-04  3.52159507e-05 -2.92175732e-04\n",
      " -9.07297237e-06  1.10452607e-04 -7.44435307e-05 -1.56868834e-04\n",
      "  6.27503718e-05  2.01913328e-04]\n"
     ]
    },
    {
     "data": {
      "text/plain": [
       "<__main__.Particle at 0x1d5a6538370>"
      ]
     },
     "execution_count": 81,
     "metadata": {},
     "output_type": "execute_result"
    },
    {
     "data": {
      "image/png": "[encoded data removed]",
      "text/plain": [
       "<Figure size 432x288 with 1 Axes>"
      ]
     },
     "metadata": {
      "needs_background": "light"
     },
     "output_type": "display_data"
    }
   ],
   "source": [
    "PSO (\"f6\",10,300,6,10000,[0.8, 2, 0.001, 1.999]) # best found, better with more iterations"
   ]
  },
  {
   "cell_type": "markdown",
   "id": "e919c524",
   "metadata": {},
   "source": [
    "### Population size, number of iterations and alpha values affect the most while the other values are equally influencing but the values set work the best in all cases but those of the mentioned variables, vary with the different combinations."
   ]
  },
  {
   "cell_type": "code",
   "execution_count": 69,
   "id": "e2184eac",
   "metadata": {
    "ExecuteTime": {
     "end_time": "2022-11-25T05:54:38.971451Z",
     "start_time": "2022-11-25T05:43:26.828020Z"
    },
    "scrolled": true
   },
   "outputs": [
    {
     "name": "stderr",
     "output_type": "stream",
     "text": [
      "No artists with labels found to put in legend.  Note that artists whose label start with an underscore are ignored when legend() is called with no argument.\n"
     ]
    },
    {
     "name": "stdout",
     "output_type": "stream",
     "text": [
      "Swarm-best output:  0.00019257666812204033\n",
      "Best postion:  [0.00512684 0.00739603 0.00446403 0.00197999 0.00064693 0.0038543\n",
      " 0.00571573 0.00609772 0.00160956 0.00016279]\n",
      "--------------------------------------------------------------\n"
     ]
    },
    {
     "name": "stderr",
     "output_type": "stream",
     "text": [
      "No artists with labels found to put in legend.  Note that artists whose label start with an underscore are ignored when legend() is called with no argument.\n"
     ]
    },
    {
     "name": "stdout",
     "output_type": "stream",
     "text": [
      "Swarm-best output:  0.08031665325958326\n",
      "Best postion:  [-3.14469019e+00 -4.38478810e+00  1.04347708e-02 -6.15607859e+00\n",
      " -1.10009644e-02  7.60960180e+00 -2.21235877e-03  8.93288150e+00\n",
      " -1.07271643e-01  9.96274695e+00]\n",
      "--------------------------------------------------------------\n"
     ]
    },
    {
     "name": "stderr",
     "output_type": "stream",
     "text": [
      "No artists with labels found to put in legend.  Note that artists whose label start with an underscore are ignored when legend() is called with no argument.\n"
     ]
    },
    {
     "name": "stdout",
     "output_type": "stream",
     "text": [
      "Swarm-best output:  0.00011197400201368168\n",
      "Best postion:  [ 5.06633980e-05 -2.00230899e-04  1.50074052e-04  1.10327215e-04\n",
      "  3.04443436e-04 -2.67651365e-04  2.13175038e-04 -2.48836449e-04\n",
      " -2.75026449e-04 -3.73802707e-04]\n"
     ]
    },
    {
     "data": {
      "text/plain": [
       "<__main__.Particle at 0x18eb3811670>"
      ]
     },
     "execution_count": 69,
     "metadata": {},
     "output_type": "execute_result"
    },
    {
     "data": {
      "image/png": "[encoded data removed]",
      "text/plain": [
       "<Figure size 432x288 with 1 Axes>"
      ]
     },
     "metadata": {
      "needs_background": "light"
     },
     "output_type": "display_data"
    }
   ],
   "source": [
    "# Run f1/f4/f6 for one set of values\n",
    "PSO (\"f1\",10,300,6,5000)\n",
    "print(\"--------------------------------------------------------------\")\n",
    "PSO (\"f4\",10,300,6,5000)\n",
    "print(\"--------------------------------------------------------------\")\n",
    "PSO (\"f6\",10,300,6,5000) "
   ]
  }
 ],
 "metadata": {
  "kernelspec": {
   "display_name": "Python 3 (ipykernel)",
   "language": "python",
   "name": "python3"
  },
  "language_info": {
   "codemirror_mode": {
    "name": "ipython",
    "version": 3
   },
   "file_extension": ".py",
   "mimetype": "text/x-python",
   "name": "python",
   "nbconvert_exporter": "python",
   "pygments_lexer": "ipython3",
   "version": "3.9.12"
  }
 },
 "nbformat": 4,
 "nbformat_minor": 5
}
